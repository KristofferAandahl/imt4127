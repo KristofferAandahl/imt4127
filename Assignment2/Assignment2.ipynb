{
 "cells": [
  {
   "cell_type": "markdown",
   "source": [
    "# Assingment 2\n",
    "## Problem 3.1\n",
    "Consider databases that are real numbers, i.e., D = ℝ.\n",
    "Explain why we cannot formulate a non-trivial syntactic privacy defi-\n",
    "nition o that allows a sanitizer 𝐴(d) = d + v where v ∈ [−e, e] is random\n",
    "noise for some e ≥ 0.\n",
    "\n"
   ],
   "metadata": {
    "collapsed": false
   },
   "id": "f74ec054b873bc9f"
  },
  {
   "cell_type": "markdown",
   "source": [
    "As we would need would need cases where the sanitizer produces numbers not in D to create a non trivial privacy definition. We can infer that it will become trivial since D is the set of all real numbers. This would however not be true if either d or v is an imaginary number"
   ],
   "metadata": {
    "collapsed": false
   },
   "id": "e58b01aae0042717"
  },
  {
   "cell_type": "markdown",
   "source": [
    "## Problem 3.2\n",
    "Corollary 3.9 gives lower bounds for databases where\n",
    "records are bits. Give a version of the corollary where you consider\n",
    "databases of length 𝑛 that have records that are length 𝑡 bit-strings, i.e.,\n",
    "a database 𝑑 ∈ ({0, 1}𝑡 )𝑛, and where two databases are neighbors if they\n",
    "share a sub-database of length 𝑛 − 1, meaning they differ in one record"
   ],
   "metadata": {
    "collapsed": false
   },
   "id": "9b39ea5dbe4ecde2"
  },
  {
   "cell_type": "markdown",
   "source": [
    "We know by the previous collary that {0,1}^t^ have m(2^t^-1) neighors where m is the number of senisitive databases.\n",
    "As we are now scaling our database to contain n bitstrings of length t we will get m(2^nt^-1) neighbors\n"
   ],
   "metadata": {
    "collapsed": false
   },
   "id": "a7cf58b33147a3c2"
  },
  {
   "cell_type": "code",
   "execution_count": null,
   "outputs": [],
   "source": [],
   "metadata": {
    "collapsed": false
   },
   "id": "6f08d52a64bf1a46"
  }
 ],
 "metadata": {
  "kernelspec": {
   "display_name": "Python 3",
   "language": "python",
   "name": "python3"
  },
  "language_info": {
   "codemirror_mode": {
    "name": "ipython",
    "version": 2
   },
   "file_extension": ".py",
   "mimetype": "text/x-python",
   "name": "python",
   "nbconvert_exporter": "python",
   "pygments_lexer": "ipython2",
   "version": "2.7.6"
  }
 },
 "nbformat": 4,
 "nbformat_minor": 5
}
