{
 "cells": [
  {
   "cell_type": "markdown",
   "source": [
    "# Assignment 1\n",
    "## Problem 2.1"
   ],
   "metadata": {
    "collapsed": false
   },
   "id": "2650fe4a03ff3973"
  },
  {
   "cell_type": "code",
   "execution_count": 11,
   "outputs": [
    {
     "data": {
      "text/plain": "(array([[1., 1., 0., 0.],\n        [1., 0., 1., 0.],\n        [1., 0., 0., 1.],\n        [0., 1., 1., 0.],\n        [0., 1., 0., 1.],\n        [0., 0., 1., 1.]]),\n array([-1., -1.,  7., -1.,  8.,  8.]))"
     },
     "execution_count": 11,
     "metadata": {},
     "output_type": "execute_result"
    }
   ],
   "source": [
    "import numpy as np\n",
    "import pandas as pd\n",
    "\n",
    "raw_data = [1, 2, 2, 6]\n",
    "\n",
    "combination = np.zeros((6, 4))\n",
    "comb_data = np.zeros(6)\n",
    "\n",
    "line = 0\n",
    "for i in range(3):\n",
    "    for j in range(i+1, 4):\n",
    "        combination[line][i] = 1\n",
    "        combination[line][j] = 1\n",
    "        result = raw_data[i] + raw_data[j]\n",
    "        if result < 5:\n",
    "            comb_data[line] = -1\n",
    "        else:\n",
    "            comb_data[line] = result\n",
    "        line += 1\n",
    "    \n",
    "            \n",
    "\n",
    "combination, comb_data"
   ],
   "metadata": {
    "collapsed": false,
    "ExecuteTime": {
     "end_time": "2023-09-05T10:39:29.622505100Z",
     "start_time": "2023-09-05T10:39:28.400317100Z"
    }
   },
   "id": "initial_id"
  },
  {
   "cell_type": "markdown",
   "source": [
    "stage2 = stage 3 since stage2 | stage3 + stage4 = 8\n",
    "stage1 = stage2 - 1 since stage1 + stage4 = 7\n",
    "stage2 + stage3 < 5\n",
    "stage2 | stage3 < 2.5\n",
    "must be int\n",
    "stage2 | stage3 <= 2\n",
    "therefore\n",
    "stage1 <= 1\n",
    "stage4 >= 6\n",
    "If we ask how many are stage 1 through 3"
   ],
   "metadata": {
    "collapsed": false
   },
   "id": "eb4376eae579b07a"
  },
  {
   "cell_type": "code",
   "execution_count": 3,
   "outputs": [
    {
     "data": {
      "text/plain": "5"
     },
     "execution_count": 3,
     "metadata": {},
     "output_type": "execute_result"
    }
   ],
   "source": [
    "result = sum(raw_data[0:3])\n",
    "if result < 5:\n",
    "    result = -1\n",
    "result"
   ],
   "metadata": {
    "collapsed": false,
    "ExecuteTime": {
     "end_time": "2023-09-05T10:38:31.997552200Z",
     "start_time": "2023-09-05T10:38:31.979549700Z"
    }
   },
   "id": "55f99867d5799ec6"
  },
  {
   "cell_type": "markdown",
   "source": [
    "This means that stage2 and stage 3 is 2\n",
    "Stage 1 is 1 and stage 4 is 6\n",
    "## Problem 2.2\n",
    "Sets up the function to get a bin"
   ],
   "metadata": {
    "collapsed": false
   },
   "id": "1efad6f65421e0a3"
  },
  {
   "cell_type": "code",
   "execution_count": 4,
   "outputs": [],
   "source": [
    "def get_bin(groups: list[int]):\n",
    "    number = 0\n",
    "    for i in groups:\n",
    "        number += raw_data[i]\n",
    "    bin_number = int(number / 5)\n",
    "    return bin_number * 5, bin_number * 5 + 4"
   ],
   "metadata": {
    "collapsed": false,
    "ExecuteTime": {
     "end_time": "2023-09-05T10:38:32.053554500Z",
     "start_time": "2023-09-05T10:38:32.001551400Z"
    }
   },
   "id": "f85524bdebc2b7c0"
  },
  {
   "cell_type": "code",
   "execution_count": 5,
   "outputs": [
    {
     "data": {
      "text/plain": "(10, 14)"
     },
     "execution_count": 5,
     "metadata": {},
     "output_type": "execute_result"
    }
   ],
   "source": [
    "get_bin([1,2,3])"
   ],
   "metadata": {
    "collapsed": false,
    "ExecuteTime": {
     "end_time": "2023-09-05T10:38:32.054549800Z",
     "start_time": "2023-09-05T10:38:32.011550200Z"
    }
   },
   "id": "e26968cf0fd9eaef"
  },
  {
   "cell_type": "code",
   "execution_count": 6,
   "outputs": [
    {
     "data": {
      "text/plain": "(5, 9)"
     },
     "execution_count": 6,
     "metadata": {},
     "output_type": "execute_result"
    }
   ],
   "source": [
    "get_bin([0,1,3])"
   ],
   "metadata": {
    "collapsed": false,
    "ExecuteTime": {
     "end_time": "2023-09-05T10:38:32.064549700Z",
     "start_time": "2023-09-05T10:38:32.025553100Z"
    }
   },
   "id": "f6dc35d9ca0f272c"
  },
  {
   "cell_type": "code",
   "execution_count": 7,
   "outputs": [
    {
     "data": {
      "text/plain": "(5, 9)"
     },
     "execution_count": 7,
     "metadata": {},
     "output_type": "execute_result"
    }
   ],
   "source": [
    "get_bin([0,2,3])"
   ],
   "metadata": {
    "collapsed": false,
    "ExecuteTime": {
     "end_time": "2023-09-05T10:38:32.066549100Z",
     "start_time": "2023-09-05T10:38:32.040550500Z"
    }
   },
   "id": "3e8e90ebb7e29d8e"
  },
  {
   "cell_type": "code",
   "execution_count": 8,
   "outputs": [
    {
     "data": {
      "text/plain": "(0, 4)"
     },
     "execution_count": 8,
     "metadata": {},
     "output_type": "execute_result"
    }
   ],
   "source": [
    "get_bin([1,2])"
   ],
   "metadata": {
    "collapsed": false,
    "ExecuteTime": {
     "end_time": "2023-09-05T10:38:32.075549900Z",
     "start_time": "2023-09-05T10:38:32.057550700Z"
    }
   },
   "id": "b6bbf96621759a86"
  },
  {
   "cell_type": "code",
   "execution_count": 9,
   "outputs": [
    {
     "data": {
      "text/plain": "(5, 9)"
     },
     "execution_count": 9,
     "metadata": {},
     "output_type": "execute_result"
    }
   ],
   "source": [
    "get_bin([0,1,2])"
   ],
   "metadata": {
    "collapsed": false,
    "ExecuteTime": {
     "end_time": "2023-09-05T10:38:32.162552800Z",
     "start_time": "2023-09-05T10:38:32.073550600Z"
    }
   },
   "id": "77f029bd886affe6"
  },
  {
   "cell_type": "markdown",
   "source": [
    "Stage 1 < stage 2, 3 and 4\n",
    "Stage 0 > 0\n",
    "Stage 4 > stage 1, 2 and 3\n",
    "Stage 4 < 10 - stage1, 2 and 3\n",
    "stage 1 min 1\n",
    "stage 2 and 3 min 2\n",
    "using min values\n",
    "Stage 4 < 10 - 2 - 2\n",
    "Stage 4 max 6\n",
    "Stage 4 > 5\n",
    "Stage 4 = 6\n",
    "Stage 2 and 3 < 5\n",
    "stage 2 and 3 and 4 > 10\n",
    "Stage 2 and 3 = 4\n",
    "Stage 2 and 3 >= 2 -> ==2\n",
    "\n",
    "Stage 1 = 1, stage 2 | 3 = 2, stage 4 = 6\n",
    "## Problem 2.7"
   ],
   "metadata": {
    "collapsed": false
   },
   "id": "59c43d85d0200cf4"
  },
  {
   "cell_type": "code",
   "execution_count": 10,
   "outputs": [],
   "source": [
    "def algorithm(C: set):\n",
    "    I0 = []\n",
    "    I1 = []\n",
    "    for c in C:\n",
    "        if c == 0:\n",
    "            I0 = []\n",
    "        elif c == 1:\n",
    "            I1 = []\n",
    "        "
   ],
   "metadata": {
    "collapsed": false,
    "ExecuteTime": {
     "end_time": "2023-09-05T10:38:32.190549700Z",
     "start_time": "2023-09-05T10:38:32.088551Z"
    }
   },
   "id": "f8f1f575ed2ac790"
  },
  {
   "cell_type": "markdown",
   "source": [
    "## Problem 2.8\n",
    "### Rawdata\n"
   ],
   "metadata": {
    "collapsed": false
   },
   "id": "cad535349fc04fb8"
  },
  {
   "cell_type": "code",
   "execution_count": 12,
   "outputs": [
    {
     "data": {
      "text/plain": "        Name  Age  Gender State of domicile   Religion          Disease\n0     Ramsha   30  Female        Tamil Nadu      Hindu           Cancer\n1       Yadu   24  Female            Kerala      Hindu  Viral infection\n2     Salima   28  Female        Tamil Nadu     Muslim     Tuberculosis\n3      Sunny   27    Male         Karnataka      Parsi       No illness\n4       Joan   24  Female            Kerala  Christian    Heart-related\n5  Bahuksana   23    Male         Karnataka   Buddhist     Tuberculosis\n6     Rambha   19    Male            Kerala      Hindu           Cancer\n7     Kishor   29    Male         Karnataka      Hindu    Heart-related\n8    Johnson   17    Male            Kerala  Christian    Heart-related\n9       John   19    Male            Kerala  Christian  Viral infection",
      "text/html": "<div>\n<style scoped>\n    .dataframe tbody tr th:only-of-type {\n        vertical-align: middle;\n    }\n\n    .dataframe tbody tr th {\n        vertical-align: top;\n    }\n\n    .dataframe thead th {\n        text-align: right;\n    }\n</style>\n<table border=\"1\" class=\"dataframe\">\n  <thead>\n    <tr style=\"text-align: right;\">\n      <th></th>\n      <th>Name</th>\n      <th>Age</th>\n      <th>Gender</th>\n      <th>State of domicile</th>\n      <th>Religion</th>\n      <th>Disease</th>\n    </tr>\n  </thead>\n  <tbody>\n    <tr>\n      <th>0</th>\n      <td>Ramsha</td>\n      <td>30</td>\n      <td>Female</td>\n      <td>Tamil Nadu</td>\n      <td>Hindu</td>\n      <td>Cancer</td>\n    </tr>\n    <tr>\n      <th>1</th>\n      <td>Yadu</td>\n      <td>24</td>\n      <td>Female</td>\n      <td>Kerala</td>\n      <td>Hindu</td>\n      <td>Viral infection</td>\n    </tr>\n    <tr>\n      <th>2</th>\n      <td>Salima</td>\n      <td>28</td>\n      <td>Female</td>\n      <td>Tamil Nadu</td>\n      <td>Muslim</td>\n      <td>Tuberculosis</td>\n    </tr>\n    <tr>\n      <th>3</th>\n      <td>Sunny</td>\n      <td>27</td>\n      <td>Male</td>\n      <td>Karnataka</td>\n      <td>Parsi</td>\n      <td>No illness</td>\n    </tr>\n    <tr>\n      <th>4</th>\n      <td>Joan</td>\n      <td>24</td>\n      <td>Female</td>\n      <td>Kerala</td>\n      <td>Christian</td>\n      <td>Heart-related</td>\n    </tr>\n    <tr>\n      <th>5</th>\n      <td>Bahuksana</td>\n      <td>23</td>\n      <td>Male</td>\n      <td>Karnataka</td>\n      <td>Buddhist</td>\n      <td>Tuberculosis</td>\n    </tr>\n    <tr>\n      <th>6</th>\n      <td>Rambha</td>\n      <td>19</td>\n      <td>Male</td>\n      <td>Kerala</td>\n      <td>Hindu</td>\n      <td>Cancer</td>\n    </tr>\n    <tr>\n      <th>7</th>\n      <td>Kishor</td>\n      <td>29</td>\n      <td>Male</td>\n      <td>Karnataka</td>\n      <td>Hindu</td>\n      <td>Heart-related</td>\n    </tr>\n    <tr>\n      <th>8</th>\n      <td>Johnson</td>\n      <td>17</td>\n      <td>Male</td>\n      <td>Kerala</td>\n      <td>Christian</td>\n      <td>Heart-related</td>\n    </tr>\n    <tr>\n      <th>9</th>\n      <td>John</td>\n      <td>19</td>\n      <td>Male</td>\n      <td>Kerala</td>\n      <td>Christian</td>\n      <td>Viral infection</td>\n    </tr>\n  </tbody>\n</table>\n</div>"
     },
     "execution_count": 12,
     "metadata": {},
     "output_type": "execute_result"
    }
   ],
   "source": [
    "pd.read_csv(\"data.csv\")"
   ],
   "metadata": {
    "collapsed": false,
    "ExecuteTime": {
     "end_time": "2023-09-05T10:39:42.412925200Z",
     "start_time": "2023-09-05T10:39:42.337927300Z"
    }
   },
   "id": "77455ae15cd2d2d8"
  },
  {
   "cell_type": "markdown",
   "source": [
    "2-anonymous in quasi identifiers Gender and Province"
   ],
   "metadata": {
    "collapsed": false
   },
   "id": "c745afd010b72b58"
  },
  {
   "cell_type": "code",
   "execution_count": 13,
   "outputs": [
    {
     "data": {
      "text/plain": "  Name    Age  Gender State of domicile   Religion Disease\n0    *  20-30  Female        Tamil Nadu          *       *\n1    *  20-30  Female            Kerala          *       *\n2    *  20-30  Female        Tamil Nadu          *       *\n3    *  20-30    Male         Karnataka          *       *\n4    *  20-30  Female            Kerala          *       *\n5    *  20-30    Male         Karnataka          *       *\n6    *  10-20    Male            Kerala          *       *\n7    *  20-30    Male         Karnataka          *       *\n8    *  10-20    Male            Kerala  Christian       *\n9    *  10-20    Male            Kerala  Christian       *",
      "text/html": "<div>\n<style scoped>\n    .dataframe tbody tr th:only-of-type {\n        vertical-align: middle;\n    }\n\n    .dataframe tbody tr th {\n        vertical-align: top;\n    }\n\n    .dataframe thead th {\n        text-align: right;\n    }\n</style>\n<table border=\"1\" class=\"dataframe\">\n  <thead>\n    <tr style=\"text-align: right;\">\n      <th></th>\n      <th>Name</th>\n      <th>Age</th>\n      <th>Gender</th>\n      <th>State of domicile</th>\n      <th>Religion</th>\n      <th>Disease</th>\n    </tr>\n  </thead>\n  <tbody>\n    <tr>\n      <th>0</th>\n      <td>*</td>\n      <td>20-30</td>\n      <td>Female</td>\n      <td>Tamil Nadu</td>\n      <td>*</td>\n      <td>*</td>\n    </tr>\n    <tr>\n      <th>1</th>\n      <td>*</td>\n      <td>20-30</td>\n      <td>Female</td>\n      <td>Kerala</td>\n      <td>*</td>\n      <td>*</td>\n    </tr>\n    <tr>\n      <th>2</th>\n      <td>*</td>\n      <td>20-30</td>\n      <td>Female</td>\n      <td>Tamil Nadu</td>\n      <td>*</td>\n      <td>*</td>\n    </tr>\n    <tr>\n      <th>3</th>\n      <td>*</td>\n      <td>20-30</td>\n      <td>Male</td>\n      <td>Karnataka</td>\n      <td>*</td>\n      <td>*</td>\n    </tr>\n    <tr>\n      <th>4</th>\n      <td>*</td>\n      <td>20-30</td>\n      <td>Female</td>\n      <td>Kerala</td>\n      <td>*</td>\n      <td>*</td>\n    </tr>\n    <tr>\n      <th>5</th>\n      <td>*</td>\n      <td>20-30</td>\n      <td>Male</td>\n      <td>Karnataka</td>\n      <td>*</td>\n      <td>*</td>\n    </tr>\n    <tr>\n      <th>6</th>\n      <td>*</td>\n      <td>10-20</td>\n      <td>Male</td>\n      <td>Kerala</td>\n      <td>*</td>\n      <td>*</td>\n    </tr>\n    <tr>\n      <th>7</th>\n      <td>*</td>\n      <td>20-30</td>\n      <td>Male</td>\n      <td>Karnataka</td>\n      <td>*</td>\n      <td>*</td>\n    </tr>\n    <tr>\n      <th>8</th>\n      <td>*</td>\n      <td>10-20</td>\n      <td>Male</td>\n      <td>Kerala</td>\n      <td>Christian</td>\n      <td>*</td>\n    </tr>\n    <tr>\n      <th>9</th>\n      <td>*</td>\n      <td>10-20</td>\n      <td>Male</td>\n      <td>Kerala</td>\n      <td>Christian</td>\n      <td>*</td>\n    </tr>\n  </tbody>\n</table>\n</div>"
     },
     "execution_count": 13,
     "metadata": {},
     "output_type": "execute_result"
    }
   ],
   "source": [
    "pd.read_csv(\"2anonymous.csv\")"
   ],
   "metadata": {
    "collapsed": false,
    "ExecuteTime": {
     "end_time": "2023-09-05T10:40:12.772985300Z",
     "start_time": "2023-09-05T10:40:12.733986300Z"
    }
   },
   "id": "a131d61c2e721c37"
  },
  {
   "cell_type": "markdown",
   "source": [
    "3-anonymous in quasi identifiers Name, Age, Gender, Province,\n",
    "and Religion"
   ],
   "metadata": {
    "collapsed": false
   },
   "id": "a1c8212fbed21d9b"
  },
  {
   "cell_type": "code",
   "execution_count": 14,
   "outputs": [
    {
     "data": {
      "text/plain": "  Name    Age  Gender State of domicile Religion Disease\n0    *  20-30  Female                 *        *       *\n1    *  20-30  Female                 *        *       *\n2    *  20-30  Female                 *        *       *\n3    *  20-30    Male         Karnataka        *       *\n4    *  20-30  Female                 *        *       *\n5    *  20-30    Male         Karnataka        *       *\n6    *  10-20    Male            Kerala        *       *\n7    *  20-30    Male         Karnataka        *       *\n8    *  10-20    Male            Kerala        *       *\n9    *  10-20    Male            Kerala        *       *",
      "text/html": "<div>\n<style scoped>\n    .dataframe tbody tr th:only-of-type {\n        vertical-align: middle;\n    }\n\n    .dataframe tbody tr th {\n        vertical-align: top;\n    }\n\n    .dataframe thead th {\n        text-align: right;\n    }\n</style>\n<table border=\"1\" class=\"dataframe\">\n  <thead>\n    <tr style=\"text-align: right;\">\n      <th></th>\n      <th>Name</th>\n      <th>Age</th>\n      <th>Gender</th>\n      <th>State of domicile</th>\n      <th>Religion</th>\n      <th>Disease</th>\n    </tr>\n  </thead>\n  <tbody>\n    <tr>\n      <th>0</th>\n      <td>*</td>\n      <td>20-30</td>\n      <td>Female</td>\n      <td>*</td>\n      <td>*</td>\n      <td>*</td>\n    </tr>\n    <tr>\n      <th>1</th>\n      <td>*</td>\n      <td>20-30</td>\n      <td>Female</td>\n      <td>*</td>\n      <td>*</td>\n      <td>*</td>\n    </tr>\n    <tr>\n      <th>2</th>\n      <td>*</td>\n      <td>20-30</td>\n      <td>Female</td>\n      <td>*</td>\n      <td>*</td>\n      <td>*</td>\n    </tr>\n    <tr>\n      <th>3</th>\n      <td>*</td>\n      <td>20-30</td>\n      <td>Male</td>\n      <td>Karnataka</td>\n      <td>*</td>\n      <td>*</td>\n    </tr>\n    <tr>\n      <th>4</th>\n      <td>*</td>\n      <td>20-30</td>\n      <td>Female</td>\n      <td>*</td>\n      <td>*</td>\n      <td>*</td>\n    </tr>\n    <tr>\n      <th>5</th>\n      <td>*</td>\n      <td>20-30</td>\n      <td>Male</td>\n      <td>Karnataka</td>\n      <td>*</td>\n      <td>*</td>\n    </tr>\n    <tr>\n      <th>6</th>\n      <td>*</td>\n      <td>10-20</td>\n      <td>Male</td>\n      <td>Kerala</td>\n      <td>*</td>\n      <td>*</td>\n    </tr>\n    <tr>\n      <th>7</th>\n      <td>*</td>\n      <td>20-30</td>\n      <td>Male</td>\n      <td>Karnataka</td>\n      <td>*</td>\n      <td>*</td>\n    </tr>\n    <tr>\n      <th>8</th>\n      <td>*</td>\n      <td>10-20</td>\n      <td>Male</td>\n      <td>Kerala</td>\n      <td>*</td>\n      <td>*</td>\n    </tr>\n    <tr>\n      <th>9</th>\n      <td>*</td>\n      <td>10-20</td>\n      <td>Male</td>\n      <td>Kerala</td>\n      <td>*</td>\n      <td>*</td>\n    </tr>\n  </tbody>\n</table>\n</div>"
     },
     "execution_count": 14,
     "metadata": {},
     "output_type": "execute_result"
    }
   ],
   "source": [
    "pd.read_csv(\"3anonymous.csv\")"
   ],
   "metadata": {
    "collapsed": false,
    "ExecuteTime": {
     "end_time": "2023-09-05T10:40:41.943083900Z",
     "start_time": "2023-09-05T10:40:41.907058200Z"
    }
   },
   "id": "bbe0f40561a79e9c"
  },
  {
   "cell_type": "code",
   "execution_count": null,
   "outputs": [],
   "source": [],
   "metadata": {
    "collapsed": false
   },
   "id": "6262585f725391bf"
  }
 ],
 "metadata": {
  "kernelspec": {
   "display_name": "Python 3",
   "language": "python",
   "name": "python3"
  },
  "language_info": {
   "codemirror_mode": {
    "name": "ipython",
    "version": 2
   },
   "file_extension": ".py",
   "mimetype": "text/x-python",
   "name": "python",
   "nbconvert_exporter": "python",
   "pygments_lexer": "ipython2",
   "version": "2.7.6"
  }
 },
 "nbformat": 4,
 "nbformat_minor": 5
}
