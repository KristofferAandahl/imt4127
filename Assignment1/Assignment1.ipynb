{
 "cells": [
  {
   "cell_type": "markdown",
   "source": [
    "# Assignment 1\n",
    "## Problem 2.1"
   ],
   "metadata": {
    "collapsed": false
   },
   "id": "2650fe4a03ff3973"
  },
  {
   "cell_type": "code",
   "execution_count": 1,
   "outputs": [
    {
     "data": {
      "text/plain": "(array([[1., 1., 0., 0.],\n        [1., 0., 1., 0.],\n        [1., 0., 0., 1.],\n        [0., 1., 1., 0.],\n        [0., 1., 0., 1.],\n        [0., 0., 1., 1.]]),\n array([-1., -1.,  7., -1.,  8.,  8.]))"
     },
     "execution_count": 1,
     "metadata": {},
     "output_type": "execute_result"
    }
   ],
   "source": [
    "import numpy as np\n",
    "\n",
    "raw_data = [1, 2, 2, 6]\n",
    "\n",
    "combination = np.zeros((6, 4))\n",
    "comb_data = np.zeros(6)\n",
    "\n",
    "line = 0\n",
    "for i in range(3):\n",
    "    for j in range(i+1, 4):\n",
    "        combination[line][i] = 1\n",
    "        combination[line][j] = 1\n",
    "        result = raw_data[i] + raw_data[j]\n",
    "        if result < 5:\n",
    "            comb_data[line] = -1\n",
    "        else:\n",
    "            comb_data[line] = result\n",
    "        line += 1\n",
    "    \n",
    "            \n",
    "\n",
    "combination, comb_data"
   ],
   "metadata": {
    "collapsed": false,
    "ExecuteTime": {
     "end_time": "2023-09-04T14:45:11.694293100Z",
     "start_time": "2023-09-04T14:45:08.823050Z"
    }
   },
   "id": "initial_id"
  },
  {
   "cell_type": "markdown",
   "source": [
    "stage2 = stage 3 since stage2 | stage3 + stage4 = 8\n",
    "stage1 = stage2 - 1 since stage1 + stage4 = 7\n",
    "stage2 + stage3 < 5\n",
    "stage2 | stage3 < 2.5\n",
    "must be int\n",
    "stage2 | stage3 <= 2\n",
    "therefore\n",
    "stage1 <= 1\n",
    "stage4 >= 6\n",
    "If we ask how many are stage 1 through 3"
   ],
   "metadata": {
    "collapsed": false
   },
   "id": "eb4376eae579b07a"
  },
  {
   "cell_type": "code",
   "execution_count": 2,
   "outputs": [
    {
     "data": {
      "text/plain": "5"
     },
     "execution_count": 2,
     "metadata": {},
     "output_type": "execute_result"
    }
   ],
   "source": [
    "result = sum(raw_data[0:3])\n",
    "if result < 5:\n",
    "    result = -1\n",
    "result"
   ],
   "metadata": {
    "collapsed": false,
    "ExecuteTime": {
     "end_time": "2023-09-04T14:45:11.694293100Z",
     "start_time": "2023-09-04T14:45:08.965049100Z"
    }
   },
   "id": "55f99867d5799ec6"
  },
  {
   "cell_type": "markdown",
   "source": [
    "This means that stage2 and stage 3 is 2\n",
    "Stage 1 is 1 and stage 4 is 6\n",
    "## Problem 2.2\n",
    "Sets up the function to get a bin"
   ],
   "metadata": {
    "collapsed": false
   },
   "id": "1efad6f65421e0a3"
  },
  {
   "cell_type": "code",
   "execution_count": 3,
   "outputs": [],
   "source": [
    "def get_bin(groups: list[int]):\n",
    "    number = 0\n",
    "    for i in groups:\n",
    "        number += raw_data[i]\n",
    "    bin_number = int(number / 5)\n",
    "    return bin_number * 5, bin_number * 5 + 4"
   ],
   "metadata": {
    "collapsed": false,
    "ExecuteTime": {
     "end_time": "2023-09-04T14:45:11.695291500Z",
     "start_time": "2023-09-04T14:45:08.979049Z"
    }
   },
   "id": "f85524bdebc2b7c0"
  },
  {
   "cell_type": "code",
   "execution_count": 4,
   "outputs": [
    {
     "data": {
      "text/plain": "(10, 14)"
     },
     "execution_count": 4,
     "metadata": {},
     "output_type": "execute_result"
    }
   ],
   "source": [
    "get_bin([1,2,3])"
   ],
   "metadata": {
    "collapsed": false,
    "ExecuteTime": {
     "end_time": "2023-09-04T14:45:11.695291500Z",
     "start_time": "2023-09-04T14:45:08.995049Z"
    }
   },
   "id": "e26968cf0fd9eaef"
  },
  {
   "cell_type": "code",
   "execution_count": 5,
   "outputs": [
    {
     "data": {
      "text/plain": "(5, 9)"
     },
     "execution_count": 5,
     "metadata": {},
     "output_type": "execute_result"
    }
   ],
   "source": [
    "get_bin([0,1,3])"
   ],
   "metadata": {
    "collapsed": false,
    "ExecuteTime": {
     "end_time": "2023-09-04T14:45:11.695291500Z",
     "start_time": "2023-09-04T14:45:09.011048800Z"
    }
   },
   "id": "f6dc35d9ca0f272c"
  },
  {
   "cell_type": "code",
   "execution_count": 6,
   "outputs": [
    {
     "data": {
      "text/plain": "(5, 9)"
     },
     "execution_count": 6,
     "metadata": {},
     "output_type": "execute_result"
    }
   ],
   "source": [
    "get_bin([0,2,3])"
   ],
   "metadata": {
    "collapsed": false,
    "ExecuteTime": {
     "end_time": "2023-09-04T14:45:11.695291500Z",
     "start_time": "2023-09-04T14:45:09.026049500Z"
    }
   },
   "id": "3e8e90ebb7e29d8e"
  },
  {
   "cell_type": "code",
   "execution_count": 7,
   "outputs": [
    {
     "data": {
      "text/plain": "(0, 4)"
     },
     "execution_count": 7,
     "metadata": {},
     "output_type": "execute_result"
    }
   ],
   "source": [
    "get_bin([1,2])"
   ],
   "metadata": {
    "collapsed": false,
    "ExecuteTime": {
     "end_time": "2023-09-04T14:45:11.695291500Z",
     "start_time": "2023-09-04T14:45:09.043050200Z"
    }
   },
   "id": "b6bbf96621759a86"
  },
  {
   "cell_type": "code",
   "execution_count": 8,
   "outputs": [
    {
     "data": {
      "text/plain": "(5, 9)"
     },
     "execution_count": 8,
     "metadata": {},
     "output_type": "execute_result"
    }
   ],
   "source": [
    "get_bin([0,1,2])"
   ],
   "metadata": {
    "collapsed": false,
    "ExecuteTime": {
     "end_time": "2023-09-04T14:45:11.695291500Z",
     "start_time": "2023-09-04T14:45:09.057391300Z"
    }
   },
   "id": "77f029bd886affe6"
  },
  {
   "cell_type": "markdown",
   "source": [
    "Stage 1 < stage 2, 3 and 4\n",
    "Stage 0 > 0\n",
    "Stage 4 > stage 1, 2 and 3\n",
    "Stage 4 < 10 - stage1, 2 and 3\n",
    "stage 1 min 1\n",
    "stage 2 and 3 min 2\n",
    "using min values\n",
    "Stage 4 < 10 - 2 - 2\n",
    "Stage 4 max 6\n",
    "Stage 4 > 5\n",
    "Stage 4 = 6\n",
    "Stage 2 and 3 < 5\n",
    "stage 2 and 3 and 4 > 10\n",
    "Stage 2 and 3 = 4\n",
    "Stage 2 and 3 >= 2 -> ==2\n",
    "\n",
    "Stage 1 = 1, stage 2 | 3 = 2, stage 4 = 6\n",
    "## Problem 2.7"
   ],
   "metadata": {
    "collapsed": false
   },
   "id": "59c43d85d0200cf4"
  },
  {
   "cell_type": "code",
   "execution_count": 9,
   "outputs": [],
   "source": [
    "def algorithm(C: set):\n",
    "    I0 = []\n",
    "    I1 = []\n",
    "    for c in C:\n",
    "        if c == 0:\n",
    "            I0 = []\n",
    "        elif c == 1:\n",
    "            I1 = []\n",
    "        "
   ],
   "metadata": {
    "collapsed": false,
    "ExecuteTime": {
     "end_time": "2023-09-04T14:45:11.695291500Z",
     "start_time": "2023-09-04T14:45:09.072388900Z"
    }
   },
   "id": "f8f1f575ed2ac790"
  }
 ],
 "metadata": {
  "kernelspec": {
   "display_name": "Python 3",
   "language": "python",
   "name": "python3"
  },
  "language_info": {
   "codemirror_mode": {
    "name": "ipython",
    "version": 2
   },
   "file_extension": ".py",
   "mimetype": "text/x-python",
   "name": "python",
   "nbconvert_exporter": "python",
   "pygments_lexer": "ipython2",
   "version": "2.7.6"
  }
 },
 "nbformat": 4,
 "nbformat_minor": 5
}
