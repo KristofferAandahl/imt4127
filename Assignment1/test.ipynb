{
 "cells": [
  {
   "cell_type": "code",
   "execution_count": 2,
   "id": "initial_id",
   "metadata": {
    "collapsed": true,
    "ExecuteTime": {
     "end_time": "2023-09-04T14:45:32.177744Z",
     "start_time": "2023-09-04T14:45:32.160745800Z"
    }
   },
   "outputs": [
    {
     "data": {
      "text/plain": "        Name   Age   Gender   Height  Weight  State of domicile    Religion  \\\n0     Ramsha    30   Female   165 cm   72 kg         Tamil Nadu       Hindu   \n1       Yadu    24   Female   162 cm   70 kg             Kerala       Hindu   \n2     Salima    28   Female   170 cm   68 kg         Tamil Nadu      Muslim   \n3      Sunny    27     Male   170 cm   75 kg          Karnataka       Parsi   \n4       Joan    24   Female   165 cm   71 kg             Kerala   Christian   \n5  Bahuksana    23     Male   160 cm   69 kg          Karnataka    Buddhist   \n6     Rambha    19     Male   167 cm   85 kg             Kerala       Hindu   \n7     Kishor    29     Male   180 cm   81 kg          Karnataka       Hindu   \n8    Johnson    17     Male   175 cm   79 kg             Kerala   Christian   \n9       John    19     Male   169 cm   82 kg             Kerala   Christian   \n\n            Disease  \n0            Cancer  \n1   Viral infection  \n2      Tuberculosis  \n3        No illness  \n4     Heart-related  \n5      Tuberculosis  \n6            Cancer  \n7     Heart-related  \n8     Heart-related  \n9   Viral infection  ",
      "text/html": "<div>\n<style scoped>\n    .dataframe tbody tr th:only-of-type {\n        vertical-align: middle;\n    }\n\n    .dataframe tbody tr th {\n        vertical-align: top;\n    }\n\n    .dataframe thead th {\n        text-align: right;\n    }\n</style>\n<table border=\"1\" class=\"dataframe\">\n  <thead>\n    <tr style=\"text-align: right;\">\n      <th></th>\n      <th>Name</th>\n      <th>Age</th>\n      <th>Gender</th>\n      <th>Height</th>\n      <th>Weight</th>\n      <th>State of domicile</th>\n      <th>Religion</th>\n      <th>Disease</th>\n    </tr>\n  </thead>\n  <tbody>\n    <tr>\n      <th>0</th>\n      <td>Ramsha</td>\n      <td>30</td>\n      <td>Female</td>\n      <td>165 cm</td>\n      <td>72 kg</td>\n      <td>Tamil Nadu</td>\n      <td>Hindu</td>\n      <td>Cancer</td>\n    </tr>\n    <tr>\n      <th>1</th>\n      <td>Yadu</td>\n      <td>24</td>\n      <td>Female</td>\n      <td>162 cm</td>\n      <td>70 kg</td>\n      <td>Kerala</td>\n      <td>Hindu</td>\n      <td>Viral infection</td>\n    </tr>\n    <tr>\n      <th>2</th>\n      <td>Salima</td>\n      <td>28</td>\n      <td>Female</td>\n      <td>170 cm</td>\n      <td>68 kg</td>\n      <td>Tamil Nadu</td>\n      <td>Muslim</td>\n      <td>Tuberculosis</td>\n    </tr>\n    <tr>\n      <th>3</th>\n      <td>Sunny</td>\n      <td>27</td>\n      <td>Male</td>\n      <td>170 cm</td>\n      <td>75 kg</td>\n      <td>Karnataka</td>\n      <td>Parsi</td>\n      <td>No illness</td>\n    </tr>\n    <tr>\n      <th>4</th>\n      <td>Joan</td>\n      <td>24</td>\n      <td>Female</td>\n      <td>165 cm</td>\n      <td>71 kg</td>\n      <td>Kerala</td>\n      <td>Christian</td>\n      <td>Heart-related</td>\n    </tr>\n    <tr>\n      <th>5</th>\n      <td>Bahuksana</td>\n      <td>23</td>\n      <td>Male</td>\n      <td>160 cm</td>\n      <td>69 kg</td>\n      <td>Karnataka</td>\n      <td>Buddhist</td>\n      <td>Tuberculosis</td>\n    </tr>\n    <tr>\n      <th>6</th>\n      <td>Rambha</td>\n      <td>19</td>\n      <td>Male</td>\n      <td>167 cm</td>\n      <td>85 kg</td>\n      <td>Kerala</td>\n      <td>Hindu</td>\n      <td>Cancer</td>\n    </tr>\n    <tr>\n      <th>7</th>\n      <td>Kishor</td>\n      <td>29</td>\n      <td>Male</td>\n      <td>180 cm</td>\n      <td>81 kg</td>\n      <td>Karnataka</td>\n      <td>Hindu</td>\n      <td>Heart-related</td>\n    </tr>\n    <tr>\n      <th>8</th>\n      <td>Johnson</td>\n      <td>17</td>\n      <td>Male</td>\n      <td>175 cm</td>\n      <td>79 kg</td>\n      <td>Kerala</td>\n      <td>Christian</td>\n      <td>Heart-related</td>\n    </tr>\n    <tr>\n      <th>9</th>\n      <td>John</td>\n      <td>19</td>\n      <td>Male</td>\n      <td>169 cm</td>\n      <td>82 kg</td>\n      <td>Kerala</td>\n      <td>Christian</td>\n      <td>Viral infection</td>\n    </tr>\n  </tbody>\n</table>\n</div>"
     },
     "execution_count": 2,
     "metadata": {},
     "output_type": "execute_result"
    }
   ],
   "source": [
    "import pandas as pd\n",
    "df = pd.read_csv(\"data.csv\")\n",
    "df"
   ]
  },
  {
   "cell_type": "code",
   "execution_count": null,
   "outputs": [],
   "source": [],
   "metadata": {
    "collapsed": false
   },
   "id": "d7c69592840d77d6"
  }
 ],
 "metadata": {
  "kernelspec": {
   "display_name": "Python 3",
   "language": "python",
   "name": "python3"
  },
  "language_info": {
   "codemirror_mode": {
    "name": "ipython",
    "version": 2
   },
   "file_extension": ".py",
   "mimetype": "text/x-python",
   "name": "python",
   "nbconvert_exporter": "python",
   "pygments_lexer": "ipython2",
   "version": "2.7.6"
  }
 },
 "nbformat": 4,
 "nbformat_minor": 5
}
